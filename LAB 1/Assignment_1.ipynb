{
 "cells": [
  {
   "cell_type": "markdown",
   "metadata": {},
   "source": [
    "## Environment 1: LunarLander-v3"
   ]
  },
  {
   "cell_type": "code",
   "execution_count": 1,
   "metadata": {},
   "outputs": [],
   "source": [
    "import gymnasium as gym\n",
    "\n",
    "env1 = gym.make(\"LunarLander-v3\", render_mode=\"human\")\n",
    "observation, info = env1.reset()\n",
    "\n",
    "for _ in range(500):\n",
    "    action = env1.action_space.sample()  # Take random action\n",
    "    observation, reward, terminated, truncated, info = env1.step(action)\n",
    "    if terminated or truncated:\n",
    "        observation, info = env1.reset()\n",
    "\n",
    "env1.close()"
   ]
  },
  {
   "cell_type": "code",
   "execution_count": 5,
   "metadata": {},
   "outputs": [
    {
     "name": "stdout",
     "output_type": "stream",
     "text": [
      "LunarLander-v3\n",
      "Observation space: Box([ -2.5        -2.5       -10.        -10.         -6.2831855 -10.\n",
      "  -0.         -0.       ], [ 2.5        2.5       10.        10.         6.2831855 10.\n",
      "  1.         1.       ], (8,), float32)\n",
      "Action space: Discrete(4)\n"
     ]
    }
   ],
   "source": [
    "env1 = gym.make(\"LunarLander-v3\")\n",
    "print(\"LunarLander-v3\")\n",
    "print(\"Observation space:\", env1.observation_space)\n",
    "print(\"Action space:\", env1.action_space)\n",
    "env1.close()"
   ]
  },
  {
   "cell_type": "markdown",
   "metadata": {},
   "source": [
    "## LunarLander-v3\n",
    "\n",
    "- **Observation space**: Box(8,) — an 8-dimensional vector with bounds [-2.5 to 2.5, -2.5 to 2.5, -10 to 10, -10 to 10, -6.28 to 6.28, -10 to 10, 0 to 1, 0 to 1]:\n",
    "  - Elements 0-1: Lander position (x, y coordinates)\n",
    "  - Elements 2-3: Lander velocity (x, y components) \n",
    "  - Element 4: Lander angle (in radians, ±π)\n",
    "  - Element 5: Lander angular velocity\n",
    "  - Elements 6-7: Boolean leg contact sensors (left leg, right leg)\n",
    "- **Action space**: Discrete(4) — 4 discrete actions: do nothing, fire left engine, fire main engine, fire right engine.\n",
    "- **Goal/objective**: Land the lunar module softly on the landing pad.\n",
    "- **Typical episode length**: About 500–1000 steps if not terminated sooner.\n",
    "- **Challenges**: Balancing thrust, landing at the right speed and angle, not crashing.\n",
    "\n",
    "---"
   ]
  },
  {
   "cell_type": "markdown",
   "metadata": {},
   "source": [
    "## Environment 2: CarRacing"
   ]
  },
  {
   "cell_type": "code",
   "execution_count": 3,
   "metadata": {},
   "outputs": [],
   "source": [
    "env2 = gym.make(\"CarRacing-v3\", render_mode=\"human\")\n",
    "observation, info = env2.reset(seed=42)\n",
    "\n",
    "for _ in range(500):\n",
    "    action = env2.action_space.sample()\n",
    "    observation, reward, terminated, truncated, info = env2.step(action)\n",
    "    if terminated or truncated:\n",
    "        observation, info = env2.reset()\n",
    "\n",
    "env2.close()"
   ]
  },
  {
   "cell_type": "code",
   "execution_count": 7,
   "metadata": {},
   "outputs": [
    {
     "name": "stdout",
     "output_type": "stream",
     "text": [
      "\n",
      "CarRacing-v3\n",
      "Observation space: Box(0, 255, (96, 96, 3), uint8)\n",
      "Action space: Box([-1.  0.  0.], 1.0, (3,), float32)\n"
     ]
    }
   ],
   "source": [
    "env2 = gym.make(\"CarRacing-v3\")\n",
    "print(\"\\nCarRacing-v3\")\n",
    "print(\"Observation space:\", env2.observation_space)\n",
    "print(\"Action space:\", env2.action_space)\n",
    "env2.close()"
   ]
  },
  {
   "cell_type": "markdown",
   "metadata": {},
   "source": [
    "## CarRacing-v3\n",
    "\n",
    "- **Observation space**: Box(0, 255, (96, 96, 3), uint8) — 96×96×3 RGB image with pixel values 0-255, representing the car and track view.\n",
    "- **Action space**: Box([-1, 0, 0], [1, 1, 1], (3,), float32) — continuous control:\n",
    "  - Action 0: Steering [-1, 1] (left/right)\n",
    "  - Action 1: Gas [0, 1] (throttle)\n",
    "  - Action 2: Brake [0, 1] (braking force)\n",
    "- **Goal/objective**: Drive as far as possible around the procedurally generated track.\n",
    "- **Typical episode length**: Up to 1000–2000 frames.\n",
    "- **Challenges**: Keeping the car on track, handling curves, speed control with continuous actions."
   ]
  }
 ],
 "metadata": {
  "kernelspec": {
   "display_name": "Python 3",
   "language": "python",
   "name": "python3"
  },
  "language_info": {
   "codemirror_mode": {
    "name": "ipython",
    "version": 3
   },
   "file_extension": ".py",
   "mimetype": "text/x-python",
   "name": "python",
   "nbconvert_exporter": "python",
   "pygments_lexer": "ipython3",
   "version": "3.10.0"
  }
 },
 "nbformat": 4,
 "nbformat_minor": 2
}
